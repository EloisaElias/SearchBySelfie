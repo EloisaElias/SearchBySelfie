{
 "cells": [
  {
   "cell_type": "markdown",
   "metadata": {},
   "source": [
    "\n",
    "Load in faces dataset as RDD\n",
    "Apply transformation to build a new RDD\n",
    "cache RDD\n",
    "\n",
    "Present a new face data set and apply transformation to it.\n",
    "\n",
    "Write a reduce map function to reduce the possible matches.\n",
    "\n",
    "Build in slight tolerances to reduce errors.\n",
    "\n",
    "Filter by race\n",
    "Filter by gender\n",
    "Filter by eye width with tolerances\n",
    "Filter by mouth width with tolerances\n",
    "\n",
    "Ability to add in more filter options.\n",
    "\n",
    "Return # of matching rows.\n",
    "\n",
    "\n",
    "genders => (0 = \"Male\", 1 = \"Female\")\n",
    "races => (0 = \"White\", 2 = \"Asian\")\n",
    "\n",
    "Class face {\n",
    "    // known variables\n",
    "    imageWidth in pixels\n",
    "    imageHeight in pixels\n",
    "    faceWidth as a percentage\n",
    "    faceHeight as a percentage\n",
    "    faceCenter as a tuple\n",
    "    eyeLeft as a tuple\n",
    "    eyeRight as a tuple\n",
    "    eyesDistance as a percentage\n",
    "    mouthLeft as a tuple\n",
    "    mouthRight as a tuple\n",
    "    \n",
    "    xm = float percentage (multiplier of x to scale to [0,1] graph)\n",
    "    ym = float percentage (multiplier of y to scale to [0,1] graph)\n",
    "    elsx = float (x coordinate of eye left)\n",
    "    elsy = float (y coordinate of eye left)\n",
    "    \n",
    "    function setCx(){\n",
    "        \n",
    "        return this->\n",
    "    }\n",
    "    function setXm(){\n",
    "        $this->xm = .5/cx\n",
    "    }\n",
    "    function eyeDistance(){\n",
    "    \n",
    "    \n",
    "    }\n",
    "    \n",
    "    funciton mouthWidth(){\n",
    "    \n",
    "    }\n",
    "\n",
    "}\n",
    "\n",
    "cxm = .5/cx  //gives the multiplier for x of the face\n",
    "cym = .5/cy //gives the multiplier for y of the face\n",
    "\n",
    "\n",
    "\n",
    "EyeLeftScaled x and y coordinates on a [0,1] graph\n",
    "elsx = eyeLeft(x) * (cxm)\n",
    "elsy = eyeLeft(y) * (cym)\n",
    "\n",
    "ersx = eyeRight(x) * (cxm)\n",
    "ersy = eyeRight(y) * (cym)\n",
    "\n",
    "\n",
    "Distance between eyes\n",
    "\n",
    "function getEyeDistance {\n",
    "    eyeRight (x) - EyeLeft (x)\n",
    "\n",
    "    Example:\n",
    "    er = (.35, .75) and el = (.75,.75)\n",
    "\n",
    "    elsx - ersx = edx (eye distance)\n",
    "\n",
    "    convert back to percentage\n",
    "    exd = edx / cxm\n",
    "}\n",
    "\n",
    "function getMouthWidth {\n",
    "    \n",
    "}\n"
   ]
  },
  {
   "cell_type": "code",
   "execution_count": 1,
   "metadata": {
    "collapsed": false
   },
   "outputs": [],
   "source": [
    "class Image (width: Int, height: Int){\n",
    "    var x: Int = width\n",
    "    var y: Int = height \n",
    "}\n",
    "\n",
    "class Face (w: Double, h: Double, cX: Double, cY: Double){\n",
    "    var width: Double = w\n",
    "    var height: Double = h\n",
    "    var centerX: Double = cX\n",
    "    var centerY: Double = cY\n",
    "    var cxm: Double = .5/centerX\n",
    "    var cym: Double = .5/centerY \n",
    "    var x0: Double = centerX - (width/2)\n",
    "    var y0: Double = centerY - (height/2)  \n",
    "}\n",
    "\n",
    "class Eye (eyeX: Double, eyeY: Double) {\n",
    "    var x: Double = eyeX\n",
    "    var y: Double = eyeY\n",
    "}\n",
    "\n",
    "class FaceResult (eyeW: Double, mouthW: Double, gen: Double, ra: Double) extends java.io.Serializable {\n",
    "    var eyeWidth: Double = eyeW\n",
    "    var mouthWidth: Double = mouthW\n",
    "    var gender: Double = gen\n",
    "    var race: Double = ra\n",
    "}"
   ]
  },
  {
   "cell_type": "code",
   "execution_count": 2,
   "metadata": {
    "collapsed": false,
    "scrolled": true
   },
   "outputs": [],
   "source": [
    "def transformX (face: Face, x: Double):Double = {\n",
    "    var xval: Double = x\n",
    "    return math.abs(xval - face.x0) / face.width\n",
    "}\n",
    "def transformY (face:Face, y: Double):Double = {\n",
    "    var yval: Double = y\n",
    "    return math.abs(yval - face.y0) / face.height\n",
    "}\n",
    "\n",
    "def eyeDistance (face: Face, eyeLeft: Eye, eyeRight: Eye):Double = {\n",
    "    var el: Tuple2[Double, Double] = (transformX(face, eyeLeft.x), transformY(face, eyeLeft.y))\n",
    "    var er: Tuple2[Double, Double] = (transformX(face, eyeRight.x), transformY(face, eyeRight.y))\n",
    "   \n",
    "    return er._1 - el._1\n",
    "}\n",
    "def mouthWidth (face: Face, mouthLeft: Tuple2[Double, Double], mouthRight: Tuple2[Double, Double]):Double = {\n",
    "    var mouthL: Tuple2[Double, Double] = mouthLeft\n",
    "    var mouthR: Tuple2[Double, Double] = mouthRight\n",
    "    var mouthLX: Double = transformX(face, mouthL._1)\n",
    "    var mouthRX: Double = transformX(face, mouthR._1)\n",
    "    return mouthRX - mouthLX\n",
    "}\n"
   ]
  },
  {
   "cell_type": "code",
   "execution_count": 3,
   "metadata": {
    "collapsed": false,
    "scrolled": true
   },
   "outputs": [
    {
     "name": "stdout",
     "output_type": "stream",
     "text": [
      "\r",
      "                                                                                \r"
     ]
    },
    {
     "data": {
      "text/plain": [
       "MapPartitionsRDD[4] at map at <console>:30"
      ]
     },
     "execution_count": 3,
     "metadata": {},
     "output_type": "execute_result"
    }
   ],
   "source": [
    "val faces = sc.textFile(\"/resources/facesUpdated0.csv\")\n",
    "val faceCount = faces.count()\n",
    "val facesMap2 = faces.map(line => line.split(\",\"))\n",
    "def calculate2(line:String): FaceResult = {\n",
    "    val values = line.split(\",\")\n",
    "    val face = new Face(values(30).toDouble, values(28).toDouble, values(13).toDouble, values(14).toDouble)\n",
    "    val eyeD: Double = eyeDistance(face, new Eye(values(15).toDouble, values(16).toDouble), new Eye(values(17).toDouble, values(18).toDouble))\n",
    "    val mouthW: Double = mouthWidth(face, (values(20).toDouble, values(21).toDouble), (values(22).toDouble, values(22).toDouble))\n",
    "    \n",
    "    val faceResult = new FaceResult(eyeD, mouthW, values(3).toDouble, values(10).toDouble)\n",
    "    \n",
    "    return faceResult\n",
    "}\n",
    "\n",
    "val facesMap = faces.map(calculate2)\n",
    "facesMap"
   ]
  },
  {
   "cell_type": "code",
   "execution_count": 4,
   "metadata": {
    "collapsed": false,
    "scrolled": true
   },
   "outputs": [
    {
     "name": "stdout",
     "output_type": "stream",
     "text": [
      "(0.0,0.0,0.04167816829268289,0.030716241463414617)\n"
     ]
    }
   ],
   "source": [
    "val testFace = sc.textFile(\"/resources/brandonDetectUpdated0.csv\")\n",
    "val testFaceMap = testFace.map(calculate2)\n",
    "\n",
    "val testFaceObj = testFaceMap.first()\n",
    "\n",
    "println(testFaceObj.race, testFaceObj.gender, testFaceObj.eyeWidth, testFaceObj.mouthWidth)"
   ]
  },
  {
   "cell_type": "code",
   "execution_count": 5,
   "metadata": {
    "collapsed": false
   },
   "outputs": [
    {
     "name": "stdout",
     "output_type": "stream",
     "text": [
      "Within Set Sum of Squared Errors = 0.0\n"
     ]
    },
    {
     "data": {
      "text/plain": [
       "[0.0,0.0,0.04167816829268289,0.030716241463414617]"
      ]
     },
     "execution_count": 5,
     "metadata": {},
     "output_type": "execute_result"
    }
   ],
   "source": [
    "import org.apache.spark.mllib.clustering.KMeans\n",
    "import org.apache.spark.mllib.linalg.Vectors\n",
    "\n",
    "// Load and parse the data\n",
    "//val data = sc.textFile(\"data.txt \")\n",
    "val inputData = Vectors.dense(testFaceObj.race, testFaceObj.gender, testFaceObj.eyeWidth, testFaceObj.mouthWidth)\n",
    "\n",
    "val parsedData = facesMap.map(s => Vectors.dense(s.race, s.gender, s.eyeWidth, s.mouthWidth))\n",
    "\n",
    "// Cluster the data into n classes using KMeans\n",
    "// Set number of clusters equal to the number of data points\n",
    "val numClusters = 17\n",
    "val numIterations = 20\n",
    "val clusters = KMeans.train(parsedData, numClusters, numIterations)\n",
    "\n",
    "// Evaluate clustering by computing Within Set Sum of Squared Errors\n",
    "val WSSSE = clusters.computeCost(parsedData)\n",
    "println(\"Within Set Sum of Squared Errors = \" + WSSSE)\n",
    "\n",
    "val idx = clusters.predict(inputData)\n",
    "clusters.clusterCenters(idx)"
   ]
  },
  {
   "cell_type": "code",
   "execution_count": 6,
   "metadata": {
    "collapsed": false
   },
   "outputs": [
    {
     "data": {
      "text/plain": [
       "7"
      ]
     },
     "execution_count": 6,
     "metadata": {},
     "output_type": "execute_result"
    }
   ],
   "source": [
    "val facesWomen = facesMap2.filter(array => array(3) == \"1\")\n",
    "facesWomen.count()"
   ]
  },
  {
   "cell_type": "code",
   "execution_count": 7,
   "metadata": {
    "collapsed": false
   },
   "outputs": [
    {
     "data": {
      "text/plain": [
       "9"
      ]
     },
     "execution_count": 7,
     "metadata": {},
     "output_type": "execute_result"
    }
   ],
   "source": [
    "val facesMen = facesMap2.filter(array => array(3) == \"0\")\n",
    "facesMen.count()"
   ]
  },
  {
   "cell_type": "code",
   "execution_count": 8,
   "metadata": {
    "collapsed": false
   },
   "outputs": [
    {
     "data": {
      "text/plain": [
       "5"
      ]
     },
     "execution_count": 8,
     "metadata": {},
     "output_type": "execute_result"
    }
   ],
   "source": [
    "val facesAsianWomen = facesWomen.filter(array => array(10) == \"1\")\n",
    "facesAsianWomen.count()"
   ]
  },
  {
   "cell_type": "code",
   "execution_count": 9,
   "metadata": {
    "collapsed": false
   },
   "outputs": [
    {
     "data": {
      "text/plain": [
       "4"
      ]
     },
     "execution_count": 9,
     "metadata": {},
     "output_type": "execute_result"
    }
   ],
   "source": [
    "val facesAsianMen = facesMen.filter(array => array(10) == \"1\")\n",
    "facesAsianMen.count()"
   ]
  },
  {
   "cell_type": "code",
   "execution_count": null,
   "metadata": {
    "collapsed": true
   },
   "outputs": [],
   "source": []
  }
 ],
 "metadata": {
  "kernelspec": {
   "display_name": "Spark 1.3.1 (Scala 2.10.4)",
   "language": "scala",
   "name": "spark"
  },
  "language_info": {
   "name": "scala"
  }
 },
 "nbformat": 4,
 "nbformat_minor": 0
}
